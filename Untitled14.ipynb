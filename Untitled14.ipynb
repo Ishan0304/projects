{
 "cells": [
  {
   "cell_type": "markdown",
   "metadata": {},
   "source": [
    "<h2>The Battle of the neighbourhoods</h2>"
   ]
  },
  {
   "cell_type": "markdown",
   "metadata": {},
   "source": [
    "<h4>Description</h4>\n",
    "i am about to move to tronoto and i currently live in new york,i wanted to rent an apt but instead of going on to tradional sites like google maps i wanted to use this opportunity to hone my skills in data analysis and visualization that i have gained using coursera to develop my own solution to this problem.\n",
    "<h5>criterias for apartment include:</h5>\n",
    "apartment must be 2 or 3 bedrooms<br>\n",
    "desired location is near a metro station within 1.0 mile (1.6 km) radius<br>\n",
    "price of rent not exceed $7,000 per month<br>\n",
    "top ammenities in the selected neighborhood shall be similar to current residence<br>\n",
    "desirable to have venues such as coffee shops, restaurants Asian Thai, wine stores, gym and food shops<br>\n",
    "as a reference, I have included a map of venues near current residence in new york.\n",
    "<h4>objective</h4>\n",
    "the objective of the problem is to find an apt in toronto which is in similar condtions both geographically and internally to the one in new york\n",
    "<h4>audiance</h4>\n",
    "the targeted audience for the given problem is very broad as Toronto sees an influx of thousaands of people migrating from diffrent  parts in and outside of canada"
   ]
  },
  {
   "cell_type": "markdown",
   "metadata": {},
   "source": [
    "<h4> Data Section:</h4>\n",
    "Description of the data and its sources that will be used to solve the problem<br>\n",
    "Description of the Data:¶<br>\n",
    "The following data is required to answer the issues of the problem:<br>\n",
    "\n",
    "List of Boroughs and neighborhoods of toronto with their geodata (latitud and longitud)<br>\n",
    "List of Subway metro stations in Manhattan with their address location<br>\n",
    "List of apartments for rent in Toronto  area with their addresses and price<br>\n",
    "Preferably, a list of apartment for rent with additional information, such as price, address, area, # of beds, etc<br>\n",
    "Venues for each Manhattan neighborhood ( than can be clustered)<br>\n",
    "Venues for subway metro stations, as needed<br>\n",
    "<h4>How the data will be used to solve the problem</h4><br>\n",
    "<h6>The data will be used as follows:</h6><br>\n",
    "\n",
    "Use Foursquare and geopy data to map top 10 venues for all Toronto neighborhoods and clustered in groups ( as per Course LAB)<br>\n",
    "Use foursquare and geopy data to map the location of subway metro stations , separately and on top of the above clustered map<br> in order to be able to identify the venues and ammenities near each metro station, or explore each subway location separately<br>\n",
    "Use Foursquare and geopy data to map the location of rental places, in some form, linked to the subway locations.<br>\n",
    "create a map that depicts, for instance, the average rental price per square ft, around a radious of 1.0 mile (1.6 km) around<br> each subway station - or a similar metrics. I will be able to quickly point to the popups to know the relative price per subway area.<br>\n",
    "Addresses from rental locations will be converted to geodata( lat, long) using Geopy-distance and Nominatim.<br>\n",
    "Data will be searched in open data sources if available, from real estate sites if open to reading, libraries or other<br> government agencies such as Metro New York MTA, etc.<br>\n",
    "<h6>The procesing of these DATA will allow to answer the key questions to make a decision:</h6><br>\n",
    "\n",
    "what is the cost of rent (per square ft) around a mile radius from each subway metro station?<br>\n",
    "what is the area of Toronto with best rental pricing that meets criteria established?<br>\n",
    "What is the distance from work place ( Park Ave and 53 rd St) and the tentative future home?<br>\n",
    "What are the venues of the two best places to live? How the prices compare?<br>\n",
    "How venues distribute among Manhattan neighborhoods and around metro stations?<br>\n",
    "Are there tradeoffs between size and price and location?<br>\n",
    "Any other interesting statistical data findings of the real estate and overall data.<br>"
   ]
  },
  {
   "cell_type": "code",
   "execution_count": 1,
   "metadata": {},
   "outputs": [
    {
     "name": "stdout",
     "output_type": "stream",
     "text": [
      "Libraries imported.\n"
     ]
    }
   ],
   "source": [
    "import numpy as np \n",
    "import time\n",
    "import pandas as pd \n",
    "pd.set_option('display.max_columns', None)\n",
    "pd.set_option('display.max_rows', None)\n",
    "\n",
    "import json \n",
    "import requests\n",
    "from pandas.io.json import json_normalize\n",
    "\n",
    "from geopy.geocoders import Nominatim \n",
    "#!conda install -c conda-forge folium=0.5.0 --yes \n",
    "import folium \n",
    "print('Libraries imported.')\n"
   ]
  },
  {
   "cell_type": "code",
   "execution_count": null,
   "metadata": {},
   "outputs": [],
   "source": []
  }
 ],
 "metadata": {
  "kernelspec": {
   "display_name": "Python 3",
   "language": "python",
   "name": "python3"
  },
  "language_info": {
   "codemirror_mode": {
    "name": "ipython",
    "version": 3
   },
   "file_extension": ".py",
   "mimetype": "text/x-python",
   "name": "python",
   "nbconvert_exporter": "python",
   "pygments_lexer": "ipython3",
   "version": "3.7.3"
  }
 },
 "nbformat": 4,
 "nbformat_minor": 2
}
